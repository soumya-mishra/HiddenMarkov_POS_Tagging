{
 "cells": [
  {
   "cell_type": "markdown",
   "metadata": {},
   "source": [
    "## POS tagging using modified Viterbi"
   ]
  },
  {
   "cell_type": "markdown",
   "metadata": {},
   "source": [
    "### Data Preparation"
   ]
  },
  {
   "cell_type": "code",
   "execution_count": 1,
   "metadata": {},
   "outputs": [],
   "source": [
    "#Importing libraries\n",
    "import nltk\n",
    "import numpy as np\n",
    "import pandas as pd\n",
    "from sklearn.model_selection import train_test_split\n",
    "import seaborn as sns\n",
    "import matplotlib.pyplot as plt\n",
    "import random\n",
    "from nltk.tokenize import word_tokenize\n",
    "# nltk.download('treebank')\n",
    "# nltk.download('universal_tagset')"
   ]
  },
  {
   "cell_type": "code",
   "execution_count": 2,
   "metadata": {},
   "outputs": [],
   "source": [
    "# reading the Treebank tagged sentences\n",
    "nltk_data = list(nltk.corpus.treebank.tagged_sents(tagset='universal'))"
   ]
  },
  {
   "cell_type": "code",
   "execution_count": 3,
   "metadata": {},
   "outputs": [
    {
     "data": {
      "text/plain": [
       "[[('Pierre', 'NOUN'),\n",
       "  ('Vinken', 'NOUN'),\n",
       "  (',', '.'),\n",
       "  ('61', 'NUM'),\n",
       "  ('years', 'NOUN'),\n",
       "  ('old', 'ADJ'),\n",
       "  (',', '.'),\n",
       "  ('will', 'VERB'),\n",
       "  ('join', 'VERB'),\n",
       "  ('the', 'DET'),\n",
       "  ('board', 'NOUN'),\n",
       "  ('as', 'ADP'),\n",
       "  ('a', 'DET'),\n",
       "  ('nonexecutive', 'ADJ'),\n",
       "  ('director', 'NOUN'),\n",
       "  ('Nov.', 'NOUN'),\n",
       "  ('29', 'NUM'),\n",
       "  ('.', '.')],\n",
       " [('Mr.', 'NOUN'),\n",
       "  ('Vinken', 'NOUN'),\n",
       "  ('is', 'VERB'),\n",
       "  ('chairman', 'NOUN'),\n",
       "  ('of', 'ADP'),\n",
       "  ('Elsevier', 'NOUN'),\n",
       "  ('N.V.', 'NOUN'),\n",
       "  (',', '.'),\n",
       "  ('the', 'DET'),\n",
       "  ('Dutch', 'NOUN'),\n",
       "  ('publishing', 'VERB'),\n",
       "  ('group', 'NOUN'),\n",
       "  ('.', '.')],\n",
       " [('Rudolph', 'NOUN'),\n",
       "  ('Agnew', 'NOUN'),\n",
       "  (',', '.'),\n",
       "  ('55', 'NUM'),\n",
       "  ('years', 'NOUN'),\n",
       "  ('old', 'ADJ'),\n",
       "  ('and', 'CONJ'),\n",
       "  ('former', 'ADJ'),\n",
       "  ('chairman', 'NOUN'),\n",
       "  ('of', 'ADP'),\n",
       "  ('Consolidated', 'NOUN'),\n",
       "  ('Gold', 'NOUN'),\n",
       "  ('Fields', 'NOUN'),\n",
       "  ('PLC', 'NOUN'),\n",
       "  (',', '.'),\n",
       "  ('was', 'VERB'),\n",
       "  ('named', 'VERB'),\n",
       "  ('*-1', 'X'),\n",
       "  ('a', 'DET'),\n",
       "  ('nonexecutive', 'ADJ'),\n",
       "  ('director', 'NOUN'),\n",
       "  ('of', 'ADP'),\n",
       "  ('this', 'DET'),\n",
       "  ('British', 'ADJ'),\n",
       "  ('industrial', 'ADJ'),\n",
       "  ('conglomerate', 'NOUN'),\n",
       "  ('.', '.')]]"
      ]
     },
     "execution_count": 3,
     "metadata": {},
     "output_type": "execute_result"
    }
   ],
   "source": [
    "#Check the word tag pairs in few sentences\n",
    "nltk_data[:3]"
   ]
  },
  {
   "cell_type": "code",
   "execution_count": 4,
   "metadata": {
    "scrolled": true
   },
   "outputs": [
    {
     "name": "stdout",
     "output_type": "stream",
     "text": [
      "Total sentences in Universal Tagset:3914\n"
     ]
    }
   ],
   "source": [
    "#Check the total length of senetnces\n",
    "print(f\"Total sentences in Universal Tagset:{len(nltk_data)}\")"
   ]
  },
  {
   "cell_type": "code",
   "execution_count": 5,
   "metadata": {
    "scrolled": true
   },
   "outputs": [
    {
     "name": "stdout",
     "output_type": "stream",
     "text": [
      "Total length of tagged words in Universal Corpus:100676\n"
     ]
    }
   ],
   "source": [
    "#convert list of sentences to list of words having tuple word and POS tag\n",
    "tagged_words = [ tag for sent in nltk_data for tag in sent ]\n",
    "print(f\"Total length of tagged words in Universal Corpus:{len(tagged_words)}\")    \n"
   ]
  },
  {
   "cell_type": "code",
   "execution_count": 6,
   "metadata": {
    "scrolled": true
   },
   "outputs": [
    {
     "data": {
      "text/plain": [
       "[('Pierre', 'NOUN'), ('Vinken', 'NOUN'), (',', '.'), ('61', 'NUM')]"
      ]
     },
     "execution_count": 6,
     "metadata": {},
     "output_type": "execute_result"
    }
   ],
   "source": [
    "#check the converted word and tags\n",
    "tagged_words[:4]"
   ]
  },
  {
   "cell_type": "code",
   "execution_count": 7,
   "metadata": {},
   "outputs": [],
   "source": [
    "#Get the tag lists \n",
    "total_tags = [word_tag[1] for word_tag in tagged_words ]"
   ]
  },
  {
   "cell_type": "code",
   "execution_count": 8,
   "metadata": {},
   "outputs": [
    {
     "name": "stdout",
     "output_type": "stream",
     "text": [
      "Total tags in Universal Corpus:100676\n"
     ]
    }
   ],
   "source": [
    "print(f\"Total tags in Universal Corpus:{len(total_tags)}\")  "
   ]
  },
  {
   "cell_type": "code",
   "execution_count": 9,
   "metadata": {},
   "outputs": [
    {
     "name": "stdout",
     "output_type": "stream",
     "text": [
      "Total unique tags in Universal Corpus:12\n"
     ]
    }
   ],
   "source": [
    "#check the total unique tags \n",
    "unique_tags = set(total_tags)\n",
    "print(f\"Total unique tags in Universal Corpus:{len(unique_tags)}\") "
   ]
  },
  {
   "cell_type": "code",
   "execution_count": 10,
   "metadata": {
    "scrolled": true
   },
   "outputs": [
    {
     "name": "stdout",
     "output_type": "stream",
     "text": [
      "{'DET', 'NOUN', '.', 'X', 'PRON', 'VERB', 'NUM', 'CONJ', 'ADV', 'ADJ', 'PRT', 'ADP'}\n"
     ]
    }
   ],
   "source": [
    "#check all unique tags\n",
    "print(unique_tags)"
   ]
  },
  {
   "cell_type": "markdown",
   "metadata": {},
   "source": [
    "- __All together 12 tags are available in this dataset.__"
   ]
  },
  {
   "cell_type": "code",
   "execution_count": 11,
   "metadata": {
    "scrolled": true
   },
   "outputs": [
    {
     "data": {
      "text/plain": [
       "[('NOUN', 28867),\n",
       " ('VERB', 13564),\n",
       " ('.', 11715),\n",
       " ('ADP', 9857),\n",
       " ('DET', 8725),\n",
       " ('X', 6613),\n",
       " ('ADJ', 6397),\n",
       " ('NUM', 3546),\n",
       " ('PRT', 3219),\n",
       " ('ADV', 3171),\n",
       " ('PRON', 2737),\n",
       " ('CONJ', 2265)]"
      ]
     },
     "execution_count": 11,
     "metadata": {},
     "output_type": "execute_result"
    }
   ],
   "source": [
    "#Check the distribution in tags in dataset\n",
    "#\n",
    "from collections import Counter\n",
    "tag_counts = Counter(total_tags)\n",
    "tag_counts.most_common()  "
   ]
  },
  {
   "cell_type": "code",
   "execution_count": 12,
   "metadata": {
    "scrolled": false
   },
   "outputs": [
    {
     "data": {
      "image/png": "[encoded data removed]",
      "text/plain": [
       "<Figure size 576x432 with 1 Axes>"
      ]
     },
     "metadata": {
      "needs_background": "light"
     },
     "output_type": "display_data"
    }
   ],
   "source": [
    "plt.figure(figsize=[8,6])\n",
    "sns.countplot(total_tags)\n",
    "plt.title(\"Tags Distribution in Universal corpus\",fontsize=18)\n",
    "plt.xlabel(\"Tags\",fontsize=18)\n",
    "plt.ylabel(\"Count\",fontsize=18)\n",
    "plt.tick_params(size=5,labelsize = 13)\n",
    "plt.grid(alpha=0.3)\n",
    "plt.show()"
   ]
  },
  {
   "cell_type": "markdown",
   "metadata": {},
   "source": [
    "- more no of words are tagged as \"NOUN\"\n",
    "- The second most tagged used is \"VERB\""
   ]
  },
  {
   "cell_type": "markdown",
   "metadata": {},
   "source": [
    "- __Convert data to 95% training set and 5% test set.__"
   ]
  },
  {
   "cell_type": "code",
   "execution_count": 13,
   "metadata": {},
   "outputs": [],
   "source": [
    "#Convert to train and test set\n",
    "train_set,test_set = train_test_split(nltk_data,test_size=0.05,random_state=40)"
   ]
  },
  {
   "cell_type": "code",
   "execution_count": 14,
   "metadata": {
    "scrolled": true
   },
   "outputs": [
    {
     "name": "stdout",
     "output_type": "stream",
     "text": [
      "Size of Training set:3718\n",
      "Size of Test set:196\n"
     ]
    }
   ],
   "source": [
    "# Check the size of Train and Test set \n",
    "print(f\"Size of Training set:{len(train_set)}\")\n",
    "print(f\"Size of Test set:{len(test_set)}\")"
   ]
  },
  {
   "cell_type": "code",
   "execution_count": 15,
   "metadata": {
    "scrolled": true
   },
   "outputs": [
    {
     "name": "stdout",
     "output_type": "stream",
     "text": [
      "Total (word, tag) format in Training set:96011\n"
     ]
    }
   ],
   "source": [
    "#Convert to (Word,tag) format \n",
    "train_tagged_words = [ tag for sent in train_set for tag in sent ]\n",
    "\n",
    "print(f\"Total (word, tag) format in Training set:{len(train_tagged_words)}\")"
   ]
  },
  {
   "cell_type": "code",
   "execution_count": 16,
   "metadata": {
    "scrolled": true
   },
   "outputs": [
    {
     "data": {
      "text/plain": [
       "['Why',\n",
       " 'are',\n",
       " 'programs',\n",
       " 'like',\n",
       " 'this',\n",
       " 'not',\n",
       " 'eliminated',\n",
       " '*-2',\n",
       " '*T*-1',\n",
       " '?']"
      ]
     },
     "execution_count": 16,
     "metadata": {},
     "output_type": "execute_result"
    }
   ],
   "source": [
    "#Check the training words or tokens\n",
    "train_tokens = [pair[0] for pair in train_tagged_words]\n",
    "train_tokens[:10]"
   ]
  },
  {
   "cell_type": "code",
   "execution_count": 17,
   "metadata": {},
   "outputs": [
    {
     "name": "stdout",
     "output_type": "stream",
     "text": [
      "Unique words in Training set:12117\n"
     ]
    }
   ],
   "source": [
    "# Unique no Training words\n",
    "train_vocab = set(train_tokens)\n",
    "print(f\"Unique words in Training set:{len(train_vocab)}\")"
   ]
  },
  {
   "cell_type": "code",
   "execution_count": 18,
   "metadata": {},
   "outputs": [
    {
     "name": "stdout",
     "output_type": "stream",
     "text": [
      "Unique tags in Training set:12\n"
     ]
    }
   ],
   "source": [
    "# Unique no of number of training tags\n",
    "train_tags = set([pair[1] for pair in train_tagged_words])\n",
    "print(f\"Unique tags in Training set:{len(train_tags)}\")"
   ]
  },
  {
   "cell_type": "markdown",
   "metadata": {},
   "source": [
    "### Build the vanilla Viterbi based POS tagger"
   ]
  },
  {
   "cell_type": "code",
   "execution_count": 19,
   "metadata": {},
   "outputs": [],
   "source": [
    "# Create numpy array of no of pos tags by total vocabulary\n",
    "t = len(train_tags)\n",
    "v = len(train_vocab)\n",
    "w_given_t = np.zeros((t, v))"
   ]
  },
  {
   "cell_type": "markdown",
   "metadata": {},
   "source": [
    "#### Calculate the Emission Probability\n",
    " - Emission probability = Number of times w has been tagged t / Number of times t appears\n",
    " \n",
    "__Steps:__ \n",
    "1. Get Matching TAG in (word, tag) format\n",
    "2. Check the count of matching (word,tag)\n",
    "3. Get the list of matching word from filtered tag_list and get the number of mathcing words\n",
    "4. Finally return (no of matching words,no of tags)"
   ]
  },
  {
   "cell_type": "code",
   "execution_count": 20,
   "metadata": {},
   "outputs": [],
   "source": [
    "# compute word given tag: Emission Probability\n",
    "\n",
    "def word_given_tag(word, tag, train_bag = train_tagged_words):\n",
    "    tag_list = [pair for pair in train_bag if pair[1]==tag]  # get Matching TAG in (word, tag) format\n",
    "    count_tag = len(tag_list)                                # Check the count of matching (word,tag)\n",
    "    w_given_tag_list = [pair[0] for pair in tag_list if pair[0]==word] # get the list of matching word from filtered tag_list\n",
    "    count_w_given_tag = len(w_given_tag_list)                # get the number of mathcing words\n",
    "    \n",
    "    return (count_w_given_tag, count_tag)                    # finally return (no of matching words,no of tags)"
   ]
  },
  {
   "cell_type": "code",
   "execution_count": 21,
   "metadata": {},
   "outputs": [
    {
     "name": "stdout",
     "output_type": "stream",
     "text": [
      "(349, 12914)\n"
     ]
    }
   ],
   "source": [
    "#Test the function \n",
    "print(word_given_tag('are', 'VERB'))"
   ]
  },
  {
   "cell_type": "markdown",
   "metadata": {},
   "source": [
    "#### Calculate the Transition Probability\n",
    "- Transition Probability P(t2|t1) = Number of times t1 is followed by tag t2/ Number of times t1 appears.\n",
    "\n",
    "__Steps__\n",
    "- get all the tags in training set\n",
    "- get the matching tags count\n",
    "- Initialize count t2 given t1 to 0\n",
    "- check the count when t2 appears after t1."
   ]
  },
  {
   "cell_type": "code",
   "execution_count": 22,
   "metadata": {},
   "outputs": [],
   "source": [
    "# compute tag given tag: tag2(t2) given tag1 (t1), i.e. Transition Probability\n",
    "\n",
    "\n",
    "def t2_given_t1(t2, t1, train_bag = train_tagged_words):\n",
    "    tags = [pair[1] for pair in train_bag]     # get all the tags in training set\n",
    "    count_t1 = len([t for t in tags if t==t1]) # get the matching tags count \n",
    "    count_t2_t1 = 0                            # Initialize count t2 given t1 to 0\n",
    "    for index in range(len(tags)-1):                \n",
    "        if tags[index]==t1 and tags[index+1] == t2:  # check the count when t2 appears after t1.\n",
    "            count_t2_t1 += 1\n",
    "    return (count_t2_t1, count_t1)"
   ]
  },
  {
   "cell_type": "code",
   "execution_count": 23,
   "metadata": {},
   "outputs": [
    {
     "name": "stdout",
     "output_type": "stream",
     "text": [
      "(4259, 6088)\n"
     ]
    }
   ],
   "source": [
    "#test the above function \n",
    "print(t2_given_t1('NOUN', 'ADJ'))"
   ]
  },
  {
   "cell_type": "code",
   "execution_count": 24,
   "metadata": {},
   "outputs": [],
   "source": [
    "# creating t x t transition matrix of tags\n",
    "# each column is t2, each row is t1\n",
    "# thus M(i, j) represents P(tj given ti)\n",
    "\n",
    "tags_matrix = np.zeros((len(train_tags), len(train_tags)), dtype='float32')\n",
    "for i, t1 in enumerate(list(train_tags)):\n",
    "    for j, t2 in enumerate(list(train_tags)): \n",
    "        tags_matrix[i, j] = t2_given_t1(t2, t1)[0]/t2_given_t1(t2, t1)[1]"
   ]
  },
  {
   "cell_type": "code",
   "execution_count": 25,
   "metadata": {
    "scrolled": false
   },
   "outputs": [
    {
     "data": {
      "text/html": [
       "<div>\n",
       "<style scoped>\n",
       "    .dataframe tbody tr th:only-of-type {\n",
       "        vertical-align: middle;\n",
       "    }\n",
       "\n",
       "    .dataframe tbody tr th {\n",
       "        vertical-align: top;\n",
       "    }\n",
       "\n",
       "    .dataframe thead th {\n",
       "        text-align: right;\n",
       "    }\n",
       "</style>\n",
       "<table border=\"1\" class=\"dataframe\">\n",
       "  <thead>\n",
       "    <tr style=\"text-align: right;\">\n",
       "      <th></th>\n",
       "      <th>DET</th>\n",
       "      <th>NOUN</th>\n",
       "      <th>X</th>\n",
       "      <th>.</th>\n",
       "      <th>PRON</th>\n",
       "      <th>VERB</th>\n",
       "      <th>NUM</th>\n",
       "      <th>CONJ</th>\n",
       "      <th>ADV</th>\n",
       "      <th>ADJ</th>\n",
       "      <th>PRT</th>\n",
       "      <th>ADP</th>\n",
       "    </tr>\n",
       "  </thead>\n",
       "  <tbody>\n",
       "    <tr>\n",
       "      <th>DET</th>\n",
       "      <td>0.005684</td>\n",
       "      <td>0.638046</td>\n",
       "      <td>0.046801</td>\n",
       "      <td>0.017777</td>\n",
       "      <td>0.003628</td>\n",
       "      <td>0.039182</td>\n",
       "      <td>0.022373</td>\n",
       "      <td>0.000484</td>\n",
       "      <td>0.012940</td>\n",
       "      <td>0.203531</td>\n",
       "      <td>0.000242</td>\n",
       "      <td>0.009312</td>\n",
       "    </tr>\n",
       "    <tr>\n",
       "      <th>NOUN</th>\n",
       "      <td>0.013402</td>\n",
       "      <td>0.264918</td>\n",
       "      <td>0.029129</td>\n",
       "      <td>0.240439</td>\n",
       "      <td>0.004722</td>\n",
       "      <td>0.145970</td>\n",
       "      <td>0.009262</td>\n",
       "      <td>0.042640</td>\n",
       "      <td>0.017179</td>\n",
       "      <td>0.012095</td>\n",
       "      <td>0.043620</td>\n",
       "      <td>0.176624</td>\n",
       "    </tr>\n",
       "    <tr>\n",
       "      <th>X</th>\n",
       "      <td>0.053763</td>\n",
       "      <td>0.063093</td>\n",
       "      <td>0.075269</td>\n",
       "      <td>0.162713</td>\n",
       "      <td>0.054870</td>\n",
       "      <td>0.205250</td>\n",
       "      <td>0.002688</td>\n",
       "      <td>0.010595</td>\n",
       "      <td>0.026091</td>\n",
       "      <td>0.017236</td>\n",
       "      <td>0.184535</td>\n",
       "      <td>0.143896</td>\n",
       "    </tr>\n",
       "    <tr>\n",
       "      <th>.</th>\n",
       "      <td>0.172713</td>\n",
       "      <td>0.222391</td>\n",
       "      <td>0.026984</td>\n",
       "      <td>0.094085</td>\n",
       "      <td>0.065761</td>\n",
       "      <td>0.088992</td>\n",
       "      <td>0.081040</td>\n",
       "      <td>0.058524</td>\n",
       "      <td>0.051465</td>\n",
       "      <td>0.044317</td>\n",
       "      <td>0.002412</td>\n",
       "      <td>0.091226</td>\n",
       "    </tr>\n",
       "    <tr>\n",
       "      <th>PRON</th>\n",
       "      <td>0.009192</td>\n",
       "      <td>0.208732</td>\n",
       "      <td>0.092685</td>\n",
       "      <td>0.040597</td>\n",
       "      <td>0.007660</td>\n",
       "      <td>0.484106</td>\n",
       "      <td>0.007660</td>\n",
       "      <td>0.005362</td>\n",
       "      <td>0.034087</td>\n",
       "      <td>0.074684</td>\n",
       "      <td>0.012256</td>\n",
       "      <td>0.022980</td>\n",
       "    </tr>\n",
       "    <tr>\n",
       "      <th>VERB</th>\n",
       "      <td>0.132724</td>\n",
       "      <td>0.111275</td>\n",
       "      <td>0.217748</td>\n",
       "      <td>0.035233</td>\n",
       "      <td>0.035078</td>\n",
       "      <td>0.168732</td>\n",
       "      <td>0.022998</td>\n",
       "      <td>0.005420</td>\n",
       "      <td>0.081927</td>\n",
       "      <td>0.065588</td>\n",
       "      <td>0.031594</td>\n",
       "      <td>0.091683</td>\n",
       "    </tr>\n",
       "    <tr>\n",
       "      <th>NUM</th>\n",
       "      <td>0.003231</td>\n",
       "      <td>0.352129</td>\n",
       "      <td>0.210279</td>\n",
       "      <td>0.116887</td>\n",
       "      <td>0.001468</td>\n",
       "      <td>0.018209</td>\n",
       "      <td>0.186197</td>\n",
       "      <td>0.013510</td>\n",
       "      <td>0.002937</td>\n",
       "      <td>0.033186</td>\n",
       "      <td>0.027019</td>\n",
       "      <td>0.034949</td>\n",
       "    </tr>\n",
       "    <tr>\n",
       "      <th>CONJ</th>\n",
       "      <td>0.120904</td>\n",
       "      <td>0.347946</td>\n",
       "      <td>0.008306</td>\n",
       "      <td>0.033687</td>\n",
       "      <td>0.059529</td>\n",
       "      <td>0.156899</td>\n",
       "      <td>0.042455</td>\n",
       "      <td>0.000461</td>\n",
       "      <td>0.055376</td>\n",
       "      <td>0.115367</td>\n",
       "      <td>0.005076</td>\n",
       "      <td>0.053992</td>\n",
       "    </tr>\n",
       "    <tr>\n",
       "      <th>ADV</th>\n",
       "      <td>0.067701</td>\n",
       "      <td>0.031374</td>\n",
       "      <td>0.023118</td>\n",
       "      <td>0.137384</td>\n",
       "      <td>0.014531</td>\n",
       "      <td>0.346764</td>\n",
       "      <td>0.031704</td>\n",
       "      <td>0.006935</td>\n",
       "      <td>0.079590</td>\n",
       "      <td>0.129789</td>\n",
       "      <td>0.013540</td>\n",
       "      <td>0.117569</td>\n",
       "    </tr>\n",
       "    <tr>\n",
       "      <th>ADJ</th>\n",
       "      <td>0.004271</td>\n",
       "      <td>0.699573</td>\n",
       "      <td>0.020861</td>\n",
       "      <td>0.063896</td>\n",
       "      <td>0.000657</td>\n",
       "      <td>0.012484</td>\n",
       "      <td>0.021353</td>\n",
       "      <td>0.016261</td>\n",
       "      <td>0.004435</td>\n",
       "      <td>0.066360</td>\n",
       "      <td>0.010841</td>\n",
       "      <td>0.079008</td>\n",
       "    </tr>\n",
       "    <tr>\n",
       "      <th>PRT</th>\n",
       "      <td>0.099804</td>\n",
       "      <td>0.247554</td>\n",
       "      <td>0.013372</td>\n",
       "      <td>0.043053</td>\n",
       "      <td>0.018591</td>\n",
       "      <td>0.401500</td>\n",
       "      <td>0.056751</td>\n",
       "      <td>0.002283</td>\n",
       "      <td>0.010437</td>\n",
       "      <td>0.084475</td>\n",
       "      <td>0.001957</td>\n",
       "      <td>0.020222</td>\n",
       "    </tr>\n",
       "    <tr>\n",
       "      <th>ADP</th>\n",
       "      <td>0.322074</td>\n",
       "      <td>0.321542</td>\n",
       "      <td>0.035160</td>\n",
       "      <td>0.039728</td>\n",
       "      <td>0.069683</td>\n",
       "      <td>0.007967</td>\n",
       "      <td>0.063522</td>\n",
       "      <td>0.000956</td>\n",
       "      <td>0.013703</td>\n",
       "      <td>0.106862</td>\n",
       "      <td>0.001381</td>\n",
       "      <td>0.017421</td>\n",
       "    </tr>\n",
       "  </tbody>\n",
       "</table>\n",
       "</div>"
      ],
      "text/plain": [
       "           DET      NOUN         X         .      PRON      VERB       NUM  \\\n",
       "DET   0.005684  0.638046  0.046801  0.017777  0.003628  0.039182  0.022373   \n",
       "NOUN  0.013402  0.264918  0.029129  0.240439  0.004722  0.145970  0.009262   \n",
       "X     0.053763  0.063093  0.075269  0.162713  0.054870  0.205250  0.002688   \n",
       ".     0.172713  0.222391  0.026984  0.094085  0.065761  0.088992  0.081040   \n",
       "PRON  0.009192  0.208732  0.092685  0.040597  0.007660  0.484106  0.007660   \n",
       "VERB  0.132724  0.111275  0.217748  0.035233  0.035078  0.168732  0.022998   \n",
       "NUM   0.003231  0.352129  0.210279  0.116887  0.001468  0.018209  0.186197   \n",
       "CONJ  0.120904  0.347946  0.008306  0.033687  0.059529  0.156899  0.042455   \n",
       "ADV   0.067701  0.031374  0.023118  0.137384  0.014531  0.346764  0.031704   \n",
       "ADJ   0.004271  0.699573  0.020861  0.063896  0.000657  0.012484  0.021353   \n",
       "PRT   0.099804  0.247554  0.013372  0.043053  0.018591  0.401500  0.056751   \n",
       "ADP   0.322074  0.321542  0.035160  0.039728  0.069683  0.007967  0.063522   \n",
       "\n",
       "          CONJ       ADV       ADJ       PRT       ADP  \n",
       "DET   0.000484  0.012940  0.203531  0.000242  0.009312  \n",
       "NOUN  0.042640  0.017179  0.012095  0.043620  0.176624  \n",
       "X     0.010595  0.026091  0.017236  0.184535  0.143896  \n",
       ".     0.058524  0.051465  0.044317  0.002412  0.091226  \n",
       "PRON  0.005362  0.034087  0.074684  0.012256  0.022980  \n",
       "VERB  0.005420  0.081927  0.065588  0.031594  0.091683  \n",
       "NUM   0.013510  0.002937  0.033186  0.027019  0.034949  \n",
       "CONJ  0.000461  0.055376  0.115367  0.005076  0.053992  \n",
       "ADV   0.006935  0.079590  0.129789  0.013540  0.117569  \n",
       "ADJ   0.016261  0.004435  0.066360  0.010841  0.079008  \n",
       "PRT   0.002283  0.010437  0.084475  0.001957  0.020222  \n",
       "ADP   0.000956  0.013703  0.106862  0.001381  0.017421  "
      ]
     },
     "execution_count": 25,
     "metadata": {},
     "output_type": "execute_result"
    }
   ],
   "source": [
    "#Create a DataFrame for ease of analysis\n",
    "tags_df = pd.DataFrame(tags_matrix, columns = list(train_tags), index=list(train_tags))\n",
    "tags_df"
   ]
  },
  {
   "cell_type": "code",
   "execution_count": 26,
   "metadata": {
    "scrolled": false
   },
   "outputs": [
    {
     "data": {
      "image/png": "[encoded data removed]",
      "text/plain": [
       "<Figure size 864x864 with 2 Axes>"
      ]
     },
     "metadata": {
      "needs_background": "light"
     },
     "output_type": "display_data"
    }
   ],
   "source": [
    "#Heatmap\n",
    "plt.figure(figsize=(12, 12))\n",
    "sns.heatmap(tags_df, vmin=-1, vmax=1, center= 0, cmap= 'coolwarm', linewidths=3, linecolor='black')\n",
    "plt.show()\n"
   ]
  },
  {
   "cell_type": "code",
   "execution_count": 27,
   "metadata": {
    "scrolled": false
   },
   "outputs": [
    {
     "data": {
      "image/png": "[encoded data removed]",
      "text/plain": [
       "<Figure size 864x864 with 2 Axes>"
      ]
     },
     "metadata": {
      "needs_background": "light"
     },
     "output_type": "display_data"
    }
   ],
   "source": [
    "# frequent tags\n",
    "# filter the df to get P(t2, t1) > 0.5\n",
    "tags_frequent = tags_df[tags_df>0.5]\n",
    "plt.figure(figsize=(12, 12))\n",
    "sns.heatmap(tags_frequent,vmin=-1, vmax=1, center= 0, cmap= 'coolwarm', linewidths=3, linecolor='black')\n",
    "plt.show()"
   ]
  },
  {
   "cell_type": "markdown",
   "metadata": {},
   "source": [
    "- __From heat map, we can observe \"DET\" followed by \"NOUN\" are more in number.__\n",
    "- __Similarly \"ADJ\" followed by \"NOUN\" also are prominent in number.__"
   ]
  },
  {
   "cell_type": "code",
   "execution_count": 28,
   "metadata": {
    "scrolled": false
   },
   "outputs": [],
   "source": [
    "# words = test_tagged_words[:2]\n",
    "# train_bag = train_tagged_words\n",
    "# state = []\n",
    "# T = list(set([pair[1] for pair in train_bag])) \n",
    "   \n",
    "#   #T contains ['X', 'CONJ', '.', 'VERB', 'NOUN', 'PRON', 'ADP', 'ADJ', 'NUM', 'ADV', 'DET', 'PRT']\n",
    "    \n",
    "# for key, word in enumerate(words):\n",
    "#         #initialise list of probability column for a given observation\n",
    "#     p = [] \n",
    "#     for tag in T:\n",
    "#         if key == 0:\n",
    "#             transition_p = tags_df.loc['.', tag]\n",
    "#         else:\n",
    "#             transition_p = tags_df.loc[state[-1], tag]\n",
    "        \n",
    "            \n",
    "#             # compute emission and state probabilities\n",
    "            \n",
    "#         emission_p = word_given_tag(words[key], tag)[0]/word_given_tag(words[key], tag)[1]\n",
    "#         state_probability = emission_p * transition_p    \n",
    "#         p.append(state_probability)\n",
    "            \n",
    "#     pmax = max(p)\n",
    "#     # getting state for which probability is maximum\n",
    "#     state_max = T[p.index(pmax)] \n",
    "#     state.append(state_max)\n",
    "    \n",
    "    \n",
    "    "
   ]
  },
  {
   "cell_type": "markdown",
   "metadata": {},
   "source": [
    "### Viterbi algorithm implementation :\n",
    "\n",
    "__Steps:__\n",
    "\n",
    "1. Input is sequence of words and (word,tag) pairs.\n",
    "2. Iterate through the sequence of words.\n",
    "3. For each word , calculate the product of emission probabilties and transition probabilties for all possible tags.\n",
    "    This is called state_probability.\n",
    "4. Assign the tag which has maximum probability obtained in step 3 above.\n",
    "5. Move to the next word in sequence to repeat steps 3 and 4 above."
   ]
  },
  {
   "cell_type": "code",
   "execution_count": 29,
   "metadata": {},
   "outputs": [],
   "source": [
    "def Viterbi(words, train_bag = train_tagged_words):\n",
    "    state = []\n",
    "    T = list(set([pair[1] for pair in train_bag])) \n",
    "   \n",
    "  #T contains ['X', 'CONJ', '.', 'VERB', 'NOUN', 'PRON', 'ADP', 'ADJ', 'NUM', 'ADV', 'DET', 'PRT']\n",
    "    \n",
    "    for key, word in enumerate(words):\n",
    "        #initialise list of probability column for a given observation\n",
    "        p = [] \n",
    "        for tag in T:\n",
    "            if key == 0:\n",
    "                transition_p = tags_df.loc['.', tag]\n",
    "            else:\n",
    "                transition_p = tags_df.loc[state[-1], tag]\n",
    "                \n",
    "            # compute emission and state probabilities\n",
    "            emission_p = word_given_tag(words[key], tag)[0]/word_given_tag(words[key], tag)[1]\n",
    "            state_probability = emission_p * transition_p    \n",
    "            p.append(state_probability)\n",
    "            \n",
    "        pmax = max(p)\n",
    "        # getting state for which probability is maximum\n",
    "        state_max = T[p.index(pmax)] \n",
    "        state.append(state_max)\n",
    "    return list(zip(words, state))"
   ]
  },
  {
   "cell_type": "code",
   "execution_count": 30,
   "metadata": {},
   "outputs": [],
   "source": [
    "# Running on entire test dataset would take more than 3-4hrs. \n",
    "# Let's test our Viterbi algorithm on a few sample sentences of test dataset\n",
    "\n",
    "random.seed(1234)\n",
    "\n",
    "# choose random 5 sents\n",
    "rndom = [random.randint(1,len(test_set)) for x in range(5)]\n",
    "\n",
    "# list of sents\n",
    "test_run = [test_set[i] for i in rndom]\n",
    "\n",
    "# list of tagged words\n",
    "test_run_base = [tup for sent in test_run for tup in sent]\n",
    "\n",
    "# list of untagged words\n",
    "test_tagged_words = [tup[0] for sent in test_run for tup in sent]\n"
   ]
  },
  {
   "cell_type": "code",
   "execution_count": 31,
   "metadata": {},
   "outputs": [
    {
     "name": "stdout",
     "output_type": "stream",
     "text": [
      "[113, 30, 2, 24, 150]\n",
      "---------------------\n",
      "[[('But', 'CONJ'), ('*', 'X'), ('do', 'VERB'), (\"n't\", 'ADV'), ('breathe', 'VERB'), ('too', 'ADV'), ('easy', 'ADJ'), (':', '.'), ('Those', 'DET'), ('dividend', 'NOUN'), ('increases', 'NOUN'), ('may', 'VERB'), ('signal', 'VERB'), ('trouble', 'NOUN'), ('ahead', 'ADV'), ('for', 'ADP'), ('stock', 'NOUN'), ('prices', 'NOUN'), (',', '.'), ('some', 'DET'), ('analysts', 'NOUN'), ('warn', 'VERB'), ('0', 'X'), ('*T*-1', 'X'), ('.', '.')], [('In', 'ADP'), ('an', 'DET'), ('joint', 'ADJ'), ('interview', 'NOUN'), ('yesterday', 'NOUN'), (',', '.'), ('both', 'DET'), ('men', 'NOUN'), ('said', 'VERB'), ('0', 'X'), ('they', 'PRON'), ('would', 'VERB'), ('like', 'VERB'), ('*-1', 'X'), ('to', 'PRT'), ('be', 'VERB'), ('the', 'DET'), ('company', 'NOUN'), (\"'s\", 'PRT'), ('next', 'ADJ'), ('chief', 'NOUN'), ('executive', 'NOUN'), ('.', '.')], [('*', 'X'), ('Beginning', 'VERB'), ('in', 'ADP'), ('1980', 'NUM'), (',', '.'), ('courts', 'NOUN'), ('in', 'ADP'), ('several', 'ADJ'), ('states', 'NOUN'), ('including', 'VERB'), ('California', 'NOUN'), ('and', 'CONJ'), ('New', 'NOUN'), ('York', 'NOUN'), ('decided', 'VERB'), ('*-2', 'X'), ('to', 'PRT'), ('suspend', 'VERB'), ('the', 'DET'), ('common-law', 'NOUN'), ('rule', 'NOUN'), ('that', 'ADP'), ('plaintiffs', 'NOUN'), ('must', 'VERB'), ('prove', 'VERB'), ('that', 'ADP'), ('the', 'DET'), ('defendants', 'NOUN'), ('are', 'VERB'), ('the', 'DET'), ('ones', 'NOUN'), ('who', 'PRON'), ('*T*-1', 'X'), ('are', 'VERB'), ('liable', 'ADJ'), ('.', '.')]]\n",
      "---------------------\n",
      "[('But', 'CONJ')]\n",
      "----------------------\n",
      "['But', '*', 'do']\n"
     ]
    }
   ],
   "source": [
    "#check the shape and content of below variables\n",
    "print(rndom)\n",
    "print(\"---------------------\")\n",
    "print(test_run[:3])\n",
    "print(\"---------------------\")\n",
    "print(test_run_base[:1])\n",
    "print(\"----------------------\")\n",
    "print(test_tagged_words[:3])"
   ]
  },
  {
   "cell_type": "code",
   "execution_count": 32,
   "metadata": {},
   "outputs": [
    {
     "name": "stdout",
     "output_type": "stream",
     "text": [
      "time taken to execute  22.814532995224\n"
     ]
    }
   ],
   "source": [
    "import time\n",
    "start = time.time()\n",
    "#Call viterbi function with test_data\n",
    "tagged_seq = Viterbi(test_tagged_words)\n",
    "end = time.time()\n",
    "difference = end-start\n",
    "print(\"time taken to execute \",difference)"
   ]
  },
  {
   "cell_type": "code",
   "execution_count": 33,
   "metadata": {},
   "outputs": [
    {
     "data": {
      "text/plain": [
       "[('But', 'CONJ'), ('*', 'X'), ('do', 'VERB'), (\"n't\", 'ADV')]"
      ]
     },
     "execution_count": 33,
     "metadata": {},
     "output_type": "execute_result"
    }
   ],
   "source": [
    "#Check the output of viterbi function\n",
    "tagged_seq[:4]"
   ]
  },
  {
   "cell_type": "code",
   "execution_count": 34,
   "metadata": {
    "scrolled": true
   },
   "outputs": [
    {
     "name": "stdout",
     "output_type": "stream",
     "text": [
      "0.889763779527559\n"
     ]
    }
   ],
   "source": [
    "# Get accuracy of model\n",
    "check = [i for i, j in zip(tagged_seq, test_run_base) if i == j] \n",
    "accuracy = len(check)/len(tagged_seq)\n",
    "print(accuracy)\n"
   ]
  },
  {
   "cell_type": "markdown",
   "metadata": {},
   "source": [
    "- __The accuracy is 88% on default viterbi algorithm.__\n",
    "- 88% words can be identified with correct tags.\n"
   ]
  },
  {
   "cell_type": "code",
   "execution_count": 35,
   "metadata": {},
   "outputs": [
    {
     "data": {
      "text/plain": [
       "[[(\"n't\", 'ADV'), (('breathe', 'DET'), ('breathe', 'VERB'))],\n",
       " [('analysts', 'NOUN'), (('warn', 'DET'), ('warn', 'VERB'))],\n",
       " [('would', 'VERB'), (('like', 'ADP'), ('like', 'VERB'))],\n",
       " [('*', 'X'), (('Beginning', 'DET'), ('Beginning', 'VERB'))],\n",
       " [('in', 'ADP'), (('1980', 'DET'), ('1980', 'NUM'))],\n",
       " [('the', 'DET'), (('common-law', 'DET'), ('common-law', 'NOUN'))],\n",
       " [('.', '.'), (('Named', 'DET'), ('Named', 'VERB'))],\n",
       " [('*T*-1', 'X'), (('Roland', 'DET'), ('Roland', 'NOUN'))],\n",
       " [('Roland', 'NOUN'), (('Matthews', 'DET'), ('Matthews', 'NOUN'))],\n",
       " [('Peter', 'NOUN'), (('Jonas', 'DET'), ('Jonas', 'NOUN'))],\n",
       " [(',', '.'), (('executive', 'NOUN'), ('executive', 'ADJ'))],\n",
       " [(',', '.'), (('as', 'ADP'), ('as', 'ADV'))],\n",
       " [('.', '.'), (('Nylev', 'DET'), ('Nylev', 'NOUN'))],\n",
       " [('Nylev', 'NOUN'), (('Municipal', 'ADJ'), ('Municipal', 'NOUN'))]]"
      ]
     },
     "execution_count": 35,
     "metadata": {},
     "output_type": "execute_result"
    }
   ],
   "source": [
    "#Get the words in the test set which are incorrectly classified\n",
    "incorrect_tagged_cases = [[test_run_base[i-1],j] for i, j in enumerate(zip(tagged_seq, test_run_base)) if j[0]!=j[1]]\n",
    "incorrect_tagged_cases"
   ]
  },
  {
   "cell_type": "code",
   "execution_count": 36,
   "metadata": {},
   "outputs": [
    {
     "data": {
      "text/plain": [
       "['Android is a mobile operating system developed by Google.\\n',\n",
       " 'Android has been the best-selling OS worldwide on smartphones since 2011 and on tablets since 2013.\\n',\n",
       " \"Google and Twitter made a deal in 2015 that gave Google access to Twitter's firehose.\\n\",\n",
       " 'Twitter is an online news and social networking service on which users post and interact with messages known as tweets.\\n',\n",
       " 'Before entering politics, Donald Trump was a domineering businessman and a television personality.\\n',\n",
       " 'The 2018 FIFA World Cup is the 21st FIFA World Cup, an international football tournament contested once every four years.\\n',\n",
       " 'This is the first World Cup to be held in Eastern Europe and the 11th time that it has been held in Europe.\\n',\n",
       " 'Show me the cheapest round trips from Dallas to Atlanta\\n',\n",
       " 'I would like to see flights from Denver to Philadelphia.\\n',\n",
       " 'Show me the price of the flights leaving Atlanta at about 3 in the afternoon and arriving in San Francisco.\\n',\n",
       " 'NASA invited social media users to experience the launch of ICESAT-2 Satellite.\\n',\n",
       " '\\n',\n",
       " '\\n',\n",
       " '\\n']"
      ]
     },
     "execution_count": 36,
     "metadata": {},
     "output_type": "execute_result"
    }
   ],
   "source": [
    "# Read the test file\n",
    "test_sent = open(\"Test_sentences.txt\").readlines()\n",
    "test_sent "
   ]
  },
  {
   "cell_type": "code",
   "execution_count": 37,
   "metadata": {},
   "outputs": [
    {
     "name": "stdout",
     "output_type": "stream",
     "text": [
      "['Android is a mobile operating system developed by Google.', 'Android has been the best-selling OS worldwide on smartphones since 2011 and on tablets since 2013.', \"Google and Twitter made a deal in 2015 that gave Google access to Twitter's firehose.\", 'Twitter is an online news and social networking service on which users post and interact with messages known as tweets.', 'Before entering politics, Donald Trump was a domineering businessman and a television personality.', 'The 2018 FIFA World Cup is the 21st FIFA World Cup, an international football tournament contested once every four years.', 'This is the first World Cup to be held in Eastern Europe and the 11th time that it has been held in Europe.', 'Show me the cheapest round trips from Dallas to Atlanta', 'I would like to see flights from Denver to Philadelphia.', 'Show me the price of the flights leaving Atlanta at about 3 in the afternoon and arriving in San Francisco.', 'NASA invited social media users to experience the launch of ICESAT-2 Satellite.']\n"
     ]
    }
   ],
   "source": [
    "#Remove the \"\\n\" from the senetence list\n",
    "test_lines = [i.rstrip() for i in test_sent if i.rstrip()!='' ]\n",
    "print(test_lines)"
   ]
  },
  {
   "cell_type": "markdown",
   "metadata": {},
   "source": [
    "### Solve the problem of unknown words"
   ]
  },
  {
   "cell_type": "code",
   "execution_count": 38,
   "metadata": {},
   "outputs": [],
   "source": [
    "sent_list = [word_tokenize(sent) for sent in test_lines]\n"
   ]
  },
  {
   "cell_type": "code",
   "execution_count": 39,
   "metadata": {},
   "outputs": [],
   "source": [
    "test_sent_to_word = [token for word in sent_list for token in word]"
   ]
  },
  {
   "cell_type": "code",
   "execution_count": 40,
   "metadata": {},
   "outputs": [],
   "source": [
    "# Check the algorithm with test file provided \n",
    "test_output = Viterbi(test_sent_to_word)"
   ]
  },
  {
   "cell_type": "code",
   "execution_count": 41,
   "metadata": {
    "scrolled": false
   },
   "outputs": [
    {
     "data": {
      "text/plain": [
       "[('Android', 'DET'),\n",
       " ('is', 'VERB'),\n",
       " ('a', 'DET'),\n",
       " ('mobile', 'ADJ'),\n",
       " ('operating', 'NOUN'),\n",
       " ('system', 'NOUN'),\n",
       " ('developed', 'VERB'),\n",
       " ('by', 'ADP'),\n",
       " ('Google', 'DET'),\n",
       " ('.', '.'),\n",
       " ('Android', 'DET'),\n",
       " ('has', 'VERB'),\n",
       " ('been', 'VERB'),\n",
       " ('the', 'DET'),\n",
       " ('best-selling', 'ADJ'),\n",
       " ('OS', 'DET'),\n",
       " ('worldwide', 'DET'),\n",
       " ('on', 'ADP'),\n",
       " ('smartphones', 'DET'),\n",
       " ('since', 'ADP'),\n",
       " ('2011', 'DET'),\n",
       " ('and', 'CONJ'),\n",
       " ('on', 'ADP'),\n",
       " ('tablets', 'NOUN'),\n",
       " ('since', 'ADP'),\n",
       " ('2013', 'DET'),\n",
       " ('.', '.'),\n",
       " ('Google', 'DET'),\n",
       " ('and', 'CONJ'),\n",
       " ('Twitter', 'DET'),\n",
       " ('made', 'VERB'),\n",
       " ('a', 'DET'),\n",
       " ('deal', 'NOUN'),\n",
       " ('in', 'ADP'),\n",
       " ('2015', 'DET'),\n",
       " ('that', 'ADP'),\n",
       " ('gave', 'VERB'),\n",
       " ('Google', 'DET'),\n",
       " ('access', 'NOUN'),\n",
       " ('to', 'PRT'),\n",
       " ('Twitter', 'DET'),\n",
       " (\"'s\", 'VERB'),\n",
       " ('firehose', 'DET'),\n",
       " ('.', '.'),\n",
       " ('Twitter', 'DET'),\n",
       " ('is', 'VERB'),\n",
       " ('an', 'DET'),\n",
       " ('online', 'DET'),\n",
       " ('news', 'NOUN'),\n",
       " ('and', 'CONJ'),\n",
       " ('social', 'ADJ'),\n",
       " ('networking', 'NOUN'),\n",
       " ('service', 'NOUN'),\n",
       " ('on', 'ADP'),\n",
       " ('which', 'DET'),\n",
       " ('users', 'NOUN'),\n",
       " ('post', 'NOUN'),\n",
       " ('and', 'CONJ'),\n",
       " ('interact', 'DET'),\n",
       " ('with', 'ADP'),\n",
       " ('messages', 'DET'),\n",
       " ('known', 'VERB'),\n",
       " ('as', 'ADP'),\n",
       " ('tweets', 'DET'),\n",
       " ('.', '.'),\n",
       " ('Before', 'ADP'),\n",
       " ('entering', 'VERB'),\n",
       " ('politics', 'NOUN'),\n",
       " (',', '.'),\n",
       " ('Donald', 'NOUN'),\n",
       " ('Trump', 'NOUN'),\n",
       " ('was', 'VERB'),\n",
       " ('a', 'DET'),\n",
       " ('domineering', 'DET'),\n",
       " ('businessman', 'NOUN'),\n",
       " ('and', 'CONJ'),\n",
       " ('a', 'DET'),\n",
       " ('television', 'NOUN'),\n",
       " ('personality', 'DET'),\n",
       " ('.', '.'),\n",
       " ('The', 'DET'),\n",
       " ('2018', 'DET'),\n",
       " ('FIFA', 'DET'),\n",
       " ('World', 'NOUN'),\n",
       " ('Cup', 'DET'),\n",
       " ('is', 'VERB'),\n",
       " ('the', 'DET'),\n",
       " ('21st', 'DET'),\n",
       " ('FIFA', 'DET'),\n",
       " ('World', 'NOUN'),\n",
       " ('Cup', 'DET'),\n",
       " (',', '.'),\n",
       " ('an', 'DET'),\n",
       " ('international', 'ADJ'),\n",
       " ('football', 'NOUN'),\n",
       " ('tournament', 'DET'),\n",
       " ('contested', 'DET'),\n",
       " ('once', 'ADV'),\n",
       " ('every', 'DET'),\n",
       " ('four', 'NUM'),\n",
       " ('years', 'NOUN'),\n",
       " ('.', '.'),\n",
       " ('This', 'DET'),\n",
       " ('is', 'VERB'),\n",
       " ('the', 'DET'),\n",
       " ('first', 'ADJ'),\n",
       " ('World', 'NOUN'),\n",
       " ('Cup', 'DET'),\n",
       " ('to', 'PRT'),\n",
       " ('be', 'VERB'),\n",
       " ('held', 'VERB'),\n",
       " ('in', 'ADP'),\n",
       " ('Eastern', 'NOUN'),\n",
       " ('Europe', 'NOUN'),\n",
       " ('and', 'CONJ'),\n",
       " ('the', 'DET'),\n",
       " ('11th', 'ADJ'),\n",
       " ('time', 'NOUN'),\n",
       " ('that', 'ADP'),\n",
       " ('it', 'PRON'),\n",
       " ('has', 'VERB'),\n",
       " ('been', 'VERB'),\n",
       " ('held', 'VERB'),\n",
       " ('in', 'ADP'),\n",
       " ('Europe', 'NOUN'),\n",
       " ('.', '.'),\n",
       " ('Show', 'NOUN'),\n",
       " ('me', 'PRON'),\n",
       " ('the', 'DET'),\n",
       " ('cheapest', 'ADJ'),\n",
       " ('round', 'NOUN'),\n",
       " ('trips', 'DET'),\n",
       " ('from', 'ADP'),\n",
       " ('Dallas', 'NOUN'),\n",
       " ('to', 'PRT'),\n",
       " ('Atlanta', 'NOUN'),\n",
       " ('I', 'PRON'),\n",
       " ('would', 'VERB'),\n",
       " ('like', 'ADP'),\n",
       " ('to', 'PRT'),\n",
       " ('see', 'VERB'),\n",
       " ('flights', 'NOUN'),\n",
       " ('from', 'ADP'),\n",
       " ('Denver', 'NOUN'),\n",
       " ('to', 'PRT'),\n",
       " ('Philadelphia', 'NOUN'),\n",
       " ('.', '.'),\n",
       " ('Show', 'NOUN'),\n",
       " ('me', 'PRON'),\n",
       " ('the', 'DET'),\n",
       " ('price', 'NOUN'),\n",
       " ('of', 'ADP'),\n",
       " ('the', 'DET'),\n",
       " ('flights', 'NOUN'),\n",
       " ('leaving', 'VERB'),\n",
       " ('Atlanta', 'NOUN'),\n",
       " ('at', 'ADP'),\n",
       " ('about', 'ADP'),\n",
       " ('3', 'NUM'),\n",
       " ('in', 'ADP'),\n",
       " ('the', 'DET'),\n",
       " ('afternoon', 'NOUN'),\n",
       " ('and', 'CONJ'),\n",
       " ('arriving', 'DET'),\n",
       " ('in', 'ADP'),\n",
       " ('San', 'NOUN'),\n",
       " ('Francisco', 'NOUN'),\n",
       " ('.', '.'),\n",
       " ('NASA', 'DET'),\n",
       " ('invited', 'DET'),\n",
       " ('social', 'ADJ'),\n",
       " ('media', 'NOUN'),\n",
       " ('users', 'NOUN'),\n",
       " ('to', 'PRT'),\n",
       " ('experience', 'NOUN'),\n",
       " ('the', 'DET'),\n",
       " ('launch', 'NOUN'),\n",
       " ('of', 'ADP'),\n",
       " ('ICESAT-2', 'DET'),\n",
       " ('Satellite', 'DET'),\n",
       " ('.', '.')]"
      ]
     },
     "execution_count": 41,
     "metadata": {},
     "output_type": "execute_result"
    }
   ],
   "source": [
    "test_output"
   ]
  },
  {
   "cell_type": "markdown",
   "metadata": {},
   "source": [
    " -  Android, Google,smartphones etc. are predicted wrongly.\n",
    " - These words were not available in training data.\n",
    " "
   ]
  },
  {
   "cell_type": "code",
   "execution_count": 42,
   "metadata": {
    "scrolled": false
   },
   "outputs": [
    {
     "data": {
      "text/plain": [
       "['smartphones',\n",
       " 'Twitter',\n",
       " '2018',\n",
       " 'online',\n",
       " 'NASA',\n",
       " '21st',\n",
       " 'interact',\n",
       " 'personality',\n",
       " 'invited',\n",
       " 'messages',\n",
       " 'worldwide',\n",
       " '2013',\n",
       " 'tournament',\n",
       " 'trips',\n",
       " 'firehose',\n",
       " 'Cup',\n",
       " 'arriving',\n",
       " 'tweets',\n",
       " 'FIFA',\n",
       " 'contested',\n",
       " 'OS',\n",
       " '2011',\n",
       " 'Android',\n",
       " '2015',\n",
       " 'ICESAT-2',\n",
       " 'Google',\n",
       " 'Satellite',\n",
       " 'domineering']"
      ]
     },
     "execution_count": 42,
     "metadata": {},
     "output_type": "execute_result"
    }
   ],
   "source": [
    "#Get the list of words which are present in test lines but not in the training corpus\n",
    "words_not_in_corpus = list(set(test_sent_to_word) - set(train_vocab))\n",
    "words_not_in_corpus"
   ]
  },
  {
   "cell_type": "markdown",
   "metadata": {},
   "source": [
    "-  __Many words like Android, Google,ICESAT-2,NASA do not present in training set.__"
   ]
  },
  {
   "cell_type": "code",
   "execution_count": 43,
   "metadata": {
    "scrolled": true
   },
   "outputs": [
    {
     "data": {
      "text/plain": [
       "[('NOUN', 27533),\n",
       " ('VERB', 12914),\n",
       " ('.', 11192),\n",
       " ('ADP', 9414),\n",
       " ('DET', 8269),\n",
       " ('X', 6324),\n",
       " ('ADJ', 6088),\n",
       " ('NUM', 3405),\n",
       " ('PRT', 3066),\n",
       " ('ADV', 3028),\n",
       " ('PRON', 2611),\n",
       " ('CONJ', 2167)]"
      ]
     },
     "execution_count": 43,
     "metadata": {},
     "output_type": "execute_result"
    }
   ],
   "source": [
    "#Check most common tags in training data set\n",
    "train_tags = [word_tag[1] for word_tag in train_tagged_words]\n",
    "Counter(train_tags).most_common()"
   ]
  },
  {
   "cell_type": "code",
   "execution_count": 44,
   "metadata": {
    "scrolled": false
   },
   "outputs": [
    {
     "data": {
      "image/png": "[encoded data removed]",
      "text/plain": [
       "<Figure size 576x432 with 1 Axes>"
      ]
     },
     "metadata": {
      "needs_background": "light"
     },
     "output_type": "display_data"
    }
   ],
   "source": [
    "# Plot the bar plot\n",
    "plt.figure(figsize=[8,6])\n",
    "sns.countplot(train_tags)\n",
    "plt.title(\"Training Tags Distributions \",fontsize=18)\n",
    "plt.xlabel(\"Tags\",fontsize=18)\n",
    "plt.ylabel(\"Count\",fontsize=18)\n",
    "plt.tick_params(size=5,labelsize = 13)\n",
    "plt.grid(alpha=0.3)\n",
    "plt.show()"
   ]
  },
  {
   "cell_type": "markdown",
   "metadata": {},
   "source": [
    " -  NOUN tag is highest frequency, More no of words are tagged as Noun in training data."
   ]
  },
  {
   "cell_type": "markdown",
   "metadata": {},
   "source": [
    "## Compare the tagging accuracies of the modifications with the vanilla Viterbi algorithm"
   ]
  },
  {
   "cell_type": "markdown",
   "metadata": {},
   "source": [
    "### Viterbi Modification 1\n",
    "\n",
    "- __For unknown words, we can assign the tag based on transition probability.__\n",
    "- __As Emission probabilities is zero for unknown words.__\n",
    "- __p(word/tag)= zero for unknow words.__\n"
   ]
  },
  {
   "cell_type": "code",
   "execution_count": 45,
   "metadata": {},
   "outputs": [],
   "source": [
    "def Viterbi_modif_1(words, train_bag = train_tagged_words):\n",
    "    state = []\n",
    "    T = list(set([pair[1] for pair in train_bag]))\n",
    "    \n",
    "    for key, word in enumerate(words):\n",
    "        #initialise list of probability column for a given observation\n",
    "        p = [] \n",
    "        p_transition =[] # list for storing transition probabilities\n",
    "        for tag in T:\n",
    "            if key == 0:\n",
    "                transition_p = tags_df.loc['.', tag]\n",
    "            else:\n",
    "                transition_p = tags_df.loc[state[-1], tag]\n",
    "                \n",
    "            # compute emission and state probabilities\n",
    "            emission_p = word_given_tag(words[key], tag)[0]/word_given_tag(words[key], tag)[1]\n",
    "            state_probability = emission_p * transition_p   # For unknow words emission_p will be zero and hence- \n",
    "                                                            # state probability will be zero.\n",
    "            p.append(state_probability)\n",
    "            p_transition.append(transition_p)\n",
    "            \n",
    "        pmax = max(p)\n",
    "        state_max = T[p.index(pmax)] \n",
    "        \n",
    "      \n",
    "        # if probability is zero (unknown word) then use transition probability\n",
    "        if(pmax==0):\n",
    "            pmax = max(p_transition)\n",
    "            state_max = T[p_transition.index(pmax)]\n",
    "                           \n",
    "        else:\n",
    "            state_max = T[p.index(pmax)] \n",
    "        \n",
    "        state.append(state_max)\n",
    "    return list(zip(words, state))"
   ]
  },
  {
   "cell_type": "code",
   "execution_count": 46,
   "metadata": {},
   "outputs": [
    {
     "name": "stdout",
     "output_type": "stream",
     "text": [
      "time taken to execute  25.120662689208984\n"
     ]
    }
   ],
   "source": [
    "# Run the viterbi modified function \n",
    "start = time.time()\n",
    "tagged_seq = Viterbi_modif_1(test_tagged_words)\n",
    "end = time.time()\n",
    "difference = end-start\n",
    "print(\"time taken to execute \",difference)"
   ]
  },
  {
   "cell_type": "code",
   "execution_count": 47,
   "metadata": {},
   "outputs": [
    {
     "name": "stdout",
     "output_type": "stream",
     "text": [
      "Modified Viterbi_1 Accuracy:  93.7007874015748\n"
     ]
    }
   ],
   "source": [
    "# Check the accuracy\n",
    "check = [i for i, j in zip(tagged_seq, test_run_base) if i == j] \n",
    "accuracy = len(check)/len(tagged_seq)\n",
    "print('Modified Viterbi_1 Accuracy: ',accuracy*100)"
   ]
  },
  {
   "cell_type": "markdown",
   "metadata": {},
   "source": [
    "- __Now the test accuracy is increased to 93% from earlier vanilla Viterbi accuracy of 88%.__"
   ]
  },
  {
   "cell_type": "code",
   "execution_count": 48,
   "metadata": {
    "scrolled": true
   },
   "outputs": [
    {
     "data": {
      "text/plain": [
       "[(('warn', 'NOUN'), ('warn', 'VERB')),\n",
       " (('like', 'ADP'), ('like', 'VERB')),\n",
       " (('1980', 'DET'), ('1980', 'NUM')),\n",
       " (('Named', 'NOUN'), ('Named', 'VERB')),\n",
       " (('Roland', 'VERB'), ('Roland', 'NOUN')),\n",
       " (('Matthews', 'X'), ('Matthews', 'NOUN')),\n",
       " (('executive', 'NOUN'), ('executive', 'ADJ')),\n",
       " (('as', 'ADP'), ('as', 'ADV'))]"
      ]
     },
     "execution_count": 48,
     "metadata": {},
     "output_type": "execute_result"
    }
   ],
   "source": [
    "# Check the incorretly tagged words after 1st modification of vanila viterbi\n",
    "[j for i, j in enumerate(zip(tagged_seq, test_run_base)) if j[0] != j[1]]"
   ]
  },
  {
   "cell_type": "markdown",
   "metadata": {},
   "source": [
    "## Viterbi Modification 2 \n",
    "- Define the pattern for rule based tagger\n",
    "- Word ends with \"ing\",\"ed\", \"ould\" marked as VERB.\n",
    "- word end with \"s\", \"ness\" are marked as NOUN.\n",
    "- If words do not follow any rule, Rule-based tagger assigns NOUN as default, \n",
    "- Similraly the rule has been assigned for ADJ,NUM and DET."
   ]
  },
  {
   "cell_type": "code",
   "execution_count": 49,
   "metadata": {},
   "outputs": [],
   "source": [
    "patterns = [\n",
    "    (r'.*ing$', 'VERB'),              # gerund\n",
    "    (r'.*ed$', 'VERB'),               # past tense verbs\n",
    "    (r'.*es$', 'VERB'),               # singular present verbs\n",
    "    (r'.*ould$', 'VERB'),              # modal verbs\n",
    "    (r'.*\\'s$', 'NOUN'),              # possessive nouns\n",
    "    (r'.*s$', 'NOUN'),                # plural nouns\n",
    "    (r'^-?[0-9]+(.[0-9]+)?$', 'NUM'), # cardinal numbers\n",
    "    (r'(The|the|A|a|An|an)$', 'DET'),   # articles or determinants\n",
    "    (r'.*able$', 'ADJ'),                # adjectives\n",
    "    (r'.*ness$', 'NOUN'),                # nouns formed from adjectives\n",
    "    (r'.*ly$', 'ADV'),                  # adverbs\n",
    "    (r'.*', 'NOUN')                    # nouns\n",
    "]"
   ]
  },
  {
   "cell_type": "code",
   "execution_count": 50,
   "metadata": {},
   "outputs": [],
   "source": [
    "#Rule based tagger \n",
    "rule_based_tagger = nltk.RegexpTagger(patterns)"
   ]
  },
  {
   "cell_type": "code",
   "execution_count": 51,
   "metadata": {},
   "outputs": [],
   "source": [
    "def Viterbi_modif_2(words, train_bag = train_tagged_words):\n",
    "    state = []\n",
    "    T = list(set([pair[1] for pair in train_bag]))\n",
    "    \n",
    "    for key, word in enumerate(words):\n",
    "        #initialise list of probability column for a given observation\n",
    "        p = [] \n",
    "        for tag in T:\n",
    "            if key == 0:\n",
    "                transition_p = tags_df.loc['.', tag]\n",
    "            else:\n",
    "                transition_p = tags_df.loc[state[-1], tag]\n",
    "                \n",
    "            # compute emission and state probabilities\n",
    "            emission_p = word_given_tag(words[key], tag)[0]/word_given_tag(words[key], tag)[1]\n",
    "            state_probability = emission_p * transition_p    \n",
    "            p.append(state_probability)\n",
    "            \n",
    "        pmax = max(p)\n",
    "        state_max = rule_based_tagger.tag([word])[0][1]       \n",
    "       \n",
    "        \n",
    "        if(pmax==0):\n",
    "            state_max = rule_based_tagger.tag([word])[0][1] # assign based on rule based tagger\n",
    "        else:\n",
    "            if state_max != 'X':\n",
    "                # getting state for which probability is maximum\n",
    "                state_max = T[p.index(pmax)]                \n",
    "            \n",
    "        \n",
    "        state.append(state_max)\n",
    "    return list(zip(words, state))"
   ]
  },
  {
   "cell_type": "code",
   "execution_count": 52,
   "metadata": {},
   "outputs": [
    {
     "name": "stdout",
     "output_type": "stream",
     "text": [
      "time taken to execute 25.34220790863037\n"
     ]
    }
   ],
   "source": [
    "# tagging the test sentences\n",
    "start = time.time()\n",
    "tagged_seq = Viterbi_modif_2(test_tagged_words)\n",
    "end = time.time()\n",
    "difference = end-start\n",
    "\n",
    "print(\"time taken to execute\", difference)"
   ]
  },
  {
   "cell_type": "code",
   "execution_count": 53,
   "metadata": {},
   "outputs": [
    {
     "name": "stdout",
     "output_type": "stream",
     "text": [
      "Modified Viterbi Algorithm Accuracy:  96.06299212598425\n"
     ]
    }
   ],
   "source": [
    "# accuracy\n",
    "check = [i for i, j in zip(tagged_seq, test_run_base) if i == j] \n",
    "accuracy = len(check)/len(tagged_seq)\n",
    "print('Modified Viterbi Algorithm Accuracy: ',accuracy*100)"
   ]
  },
  {
   "cell_type": "markdown",
   "metadata": {},
   "source": [
    "- __The accuracy now increased to 96 % after viterbi modificaion 2.__\n",
    "- __Vertibi modification 1 has accuracy around 93%.__\n"
   ]
  },
  {
   "cell_type": "code",
   "execution_count": 54,
   "metadata": {
    "scrolled": true
   },
   "outputs": [
    {
     "data": {
      "text/plain": [
       "[(('breathe', 'NOUN'), ('breathe', 'VERB')),\n",
       " (('warn', 'NOUN'), ('warn', 'VERB')),\n",
       " (('like', 'ADP'), ('like', 'VERB')),\n",
       " (('executive', 'NOUN'), ('executive', 'ADJ')),\n",
       " (('as', 'ADP'), ('as', 'ADV'))]"
      ]
     },
     "execution_count": 54,
     "metadata": {},
     "output_type": "execute_result"
    }
   ],
   "source": [
    "#check the incorrectly tagged words\n",
    "[j for i, j in enumerate(zip(tagged_seq, test_run_base)) if j[0] != j[1]]"
   ]
  },
  {
   "cell_type": "code",
   "execution_count": 55,
   "metadata": {},
   "outputs": [],
   "source": [
    "#Check the output with test data set \n",
    "test_output2 = Viterbi_modif_2(test_sent_to_word)"
   ]
  },
  {
   "cell_type": "markdown",
   "metadata": {},
   "source": [
    "### List down cases which were incorrectly tagged by original POS tagger and got corrected by your modifications"
   ]
  },
  {
   "cell_type": "code",
   "execution_count": 56,
   "metadata": {
    "scrolled": false
   },
   "outputs": [
    {
     "name": "stdout",
     "output_type": "stream",
     "text": [
      "(0, (('Android', 'NOUN'), ('Android', 'DET')))\n",
      "(1, (('is', 'VERB'), ('is', 'VERB')))\n",
      "(2, (('a', 'DET'), ('a', 'DET')))\n",
      "(3, (('mobile', 'ADJ'), ('mobile', 'ADJ')))\n",
      "(4, (('operating', 'NOUN'), ('operating', 'NOUN')))\n",
      "(5, (('system', 'NOUN'), ('system', 'NOUN')))\n",
      "(6, (('developed', 'VERB'), ('developed', 'VERB')))\n",
      "(7, (('by', 'ADP'), ('by', 'ADP')))\n",
      "(8, (('Google', 'NOUN'), ('Google', 'DET')))\n",
      "(9, (('.', '.'), ('.', '.')))\n",
      "(10, (('Android', 'NOUN'), ('Android', 'DET')))\n",
      "(11, (('has', 'VERB'), ('has', 'VERB')))\n",
      "(12, (('been', 'VERB'), ('been', 'VERB')))\n",
      "(13, (('the', 'DET'), ('the', 'DET')))\n",
      "(14, (('best-selling', 'ADJ'), ('best-selling', 'ADJ')))\n",
      "(15, (('OS', 'NOUN'), ('OS', 'DET')))\n",
      "(16, (('worldwide', 'NOUN'), ('worldwide', 'DET')))\n",
      "(17, (('on', 'ADP'), ('on', 'ADP')))\n",
      "(18, (('smartphones', 'VERB'), ('smartphones', 'DET')))\n",
      "(19, (('since', 'ADP'), ('since', 'ADP')))\n",
      "(20, (('2011', 'NUM'), ('2011', 'DET')))\n",
      "(21, (('and', 'CONJ'), ('and', 'CONJ')))\n",
      "(22, (('on', 'ADP'), ('on', 'ADP')))\n",
      "(23, (('tablets', 'NOUN'), ('tablets', 'NOUN')))\n",
      "(24, (('since', 'ADP'), ('since', 'ADP')))\n",
      "(25, (('2013', 'NUM'), ('2013', 'DET')))\n",
      "(26, (('.', '.'), ('.', '.')))\n",
      "(27, (('Google', 'NOUN'), ('Google', 'DET')))\n",
      "(28, (('and', 'CONJ'), ('and', 'CONJ')))\n",
      "(29, (('Twitter', 'NOUN'), ('Twitter', 'DET')))\n",
      "(30, (('made', 'VERB'), ('made', 'VERB')))\n",
      "(31, (('a', 'DET'), ('a', 'DET')))\n",
      "(32, (('deal', 'NOUN'), ('deal', 'NOUN')))\n",
      "(33, (('in', 'ADP'), ('in', 'ADP')))\n",
      "(34, (('2015', 'NUM'), ('2015', 'DET')))\n",
      "(35, (('that', 'ADP'), ('that', 'ADP')))\n",
      "(36, (('gave', 'VERB'), ('gave', 'VERB')))\n",
      "(37, (('Google', 'NOUN'), ('Google', 'DET')))\n",
      "(38, (('access', 'NOUN'), ('access', 'NOUN')))\n",
      "(39, (('to', 'PRT'), ('to', 'PRT')))\n",
      "(40, (('Twitter', 'NOUN'), ('Twitter', 'DET')))\n",
      "(41, ((\"'s\", 'PRT'), (\"'s\", 'VERB')))\n",
      "(42, (('firehose', 'NOUN'), ('firehose', 'DET')))\n",
      "(43, (('.', '.'), ('.', '.')))\n",
      "(44, (('Twitter', 'NOUN'), ('Twitter', 'DET')))\n",
      "(45, (('is', 'VERB'), ('is', 'VERB')))\n",
      "(46, (('an', 'DET'), ('an', 'DET')))\n",
      "(47, (('online', 'NOUN'), ('online', 'DET')))\n",
      "(48, (('news', 'NOUN'), ('news', 'NOUN')))\n",
      "(49, (('and', 'CONJ'), ('and', 'CONJ')))\n",
      "(50, (('social', 'ADJ'), ('social', 'ADJ')))\n",
      "(51, (('networking', 'NOUN'), ('networking', 'NOUN')))\n",
      "(52, (('service', 'NOUN'), ('service', 'NOUN')))\n",
      "(53, (('on', 'ADP'), ('on', 'ADP')))\n",
      "(54, (('which', 'DET'), ('which', 'DET')))\n",
      "(55, (('users', 'NOUN'), ('users', 'NOUN')))\n",
      "(56, (('post', 'NOUN'), ('post', 'NOUN')))\n",
      "(57, (('and', 'CONJ'), ('and', 'CONJ')))\n",
      "(58, (('interact', 'NOUN'), ('interact', 'DET')))\n",
      "(59, (('with', 'ADP'), ('with', 'ADP')))\n",
      "(60, (('messages', 'VERB'), ('messages', 'DET')))\n",
      "(61, (('known', 'VERB'), ('known', 'VERB')))\n",
      "(62, (('as', 'ADP'), ('as', 'ADP')))\n",
      "(63, (('tweets', 'NOUN'), ('tweets', 'DET')))\n",
      "(64, (('.', '.'), ('.', '.')))\n",
      "(65, (('Before', 'ADP'), ('Before', 'ADP')))\n",
      "(66, (('entering', 'VERB'), ('entering', 'VERB')))\n",
      "(67, (('politics', 'NOUN'), ('politics', 'NOUN')))\n",
      "(68, ((',', '.'), (',', '.')))\n",
      "(69, (('Donald', 'NOUN'), ('Donald', 'NOUN')))\n",
      "(70, (('Trump', 'NOUN'), ('Trump', 'NOUN')))\n",
      "(71, (('was', 'VERB'), ('was', 'VERB')))\n",
      "(72, (('a', 'DET'), ('a', 'DET')))\n",
      "(73, (('domineering', 'VERB'), ('domineering', 'DET')))\n",
      "(74, (('businessman', 'NOUN'), ('businessman', 'NOUN')))\n",
      "(75, (('and', 'CONJ'), ('and', 'CONJ')))\n",
      "(76, (('a', 'DET'), ('a', 'DET')))\n",
      "(77, (('television', 'NOUN'), ('television', 'NOUN')))\n",
      "(78, (('personality', 'NOUN'), ('personality', 'DET')))\n",
      "(79, (('.', '.'), ('.', '.')))\n",
      "(80, (('The', 'DET'), ('The', 'DET')))\n",
      "(81, (('2018', 'NUM'), ('2018', 'DET')))\n",
      "(82, (('FIFA', 'NOUN'), ('FIFA', 'DET')))\n",
      "(83, (('World', 'NOUN'), ('World', 'NOUN')))\n",
      "(84, (('Cup', 'NOUN'), ('Cup', 'DET')))\n",
      "(85, (('is', 'VERB'), ('is', 'VERB')))\n",
      "(86, (('the', 'DET'), ('the', 'DET')))\n",
      "(87, (('21st', 'NOUN'), ('21st', 'DET')))\n",
      "(88, (('FIFA', 'NOUN'), ('FIFA', 'DET')))\n",
      "(89, (('World', 'NOUN'), ('World', 'NOUN')))\n",
      "(90, (('Cup', 'NOUN'), ('Cup', 'DET')))\n",
      "(91, ((',', '.'), (',', '.')))\n",
      "(92, (('an', 'DET'), ('an', 'DET')))\n",
      "(93, (('international', 'ADJ'), ('international', 'ADJ')))\n",
      "(94, (('football', 'NOUN'), ('football', 'NOUN')))\n",
      "(95, (('tournament', 'NOUN'), ('tournament', 'DET')))\n",
      "(96, (('contested', 'VERB'), ('contested', 'DET')))\n",
      "(97, (('once', 'ADV'), ('once', 'ADV')))\n",
      "(98, (('every', 'DET'), ('every', 'DET')))\n",
      "(99, (('four', 'NUM'), ('four', 'NUM')))\n",
      "(100, (('years', 'NOUN'), ('years', 'NOUN')))\n",
      "(101, (('.', '.'), ('.', '.')))\n",
      "(102, (('This', 'DET'), ('This', 'DET')))\n",
      "(103, (('is', 'VERB'), ('is', 'VERB')))\n",
      "(104, (('the', 'DET'), ('the', 'DET')))\n",
      "(105, (('first', 'ADJ'), ('first', 'ADJ')))\n",
      "(106, (('World', 'NOUN'), ('World', 'NOUN')))\n",
      "(107, (('Cup', 'NOUN'), ('Cup', 'DET')))\n",
      "(108, (('to', 'PRT'), ('to', 'PRT')))\n",
      "(109, (('be', 'VERB'), ('be', 'VERB')))\n",
      "(110, (('held', 'VERB'), ('held', 'VERB')))\n",
      "(111, (('in', 'ADP'), ('in', 'ADP')))\n",
      "(112, (('Eastern', 'NOUN'), ('Eastern', 'NOUN')))\n",
      "(113, (('Europe', 'NOUN'), ('Europe', 'NOUN')))\n",
      "(114, (('and', 'CONJ'), ('and', 'CONJ')))\n",
      "(115, (('the', 'DET'), ('the', 'DET')))\n",
      "(116, (('11th', 'ADJ'), ('11th', 'ADJ')))\n",
      "(117, (('time', 'NOUN'), ('time', 'NOUN')))\n",
      "(118, (('that', 'ADP'), ('that', 'ADP')))\n",
      "(119, (('it', 'PRON'), ('it', 'PRON')))\n",
      "(120, (('has', 'VERB'), ('has', 'VERB')))\n",
      "(121, (('been', 'VERB'), ('been', 'VERB')))\n",
      "(122, (('held', 'VERB'), ('held', 'VERB')))\n",
      "(123, (('in', 'ADP'), ('in', 'ADP')))\n",
      "(124, (('Europe', 'NOUN'), ('Europe', 'NOUN')))\n",
      "(125, (('.', '.'), ('.', '.')))\n",
      "(126, (('Show', 'NOUN'), ('Show', 'NOUN')))\n",
      "(127, (('me', 'PRON'), ('me', 'PRON')))\n",
      "(128, (('the', 'DET'), ('the', 'DET')))\n",
      "(129, (('cheapest', 'ADJ'), ('cheapest', 'ADJ')))\n",
      "(130, (('round', 'NOUN'), ('round', 'NOUN')))\n",
      "(131, (('trips', 'NOUN'), ('trips', 'DET')))\n",
      "(132, (('from', 'ADP'), ('from', 'ADP')))\n",
      "(133, (('Dallas', 'NOUN'), ('Dallas', 'NOUN')))\n",
      "(134, (('to', 'PRT'), ('to', 'PRT')))\n",
      "(135, (('Atlanta', 'NOUN'), ('Atlanta', 'NOUN')))\n",
      "(136, (('I', 'PRON'), ('I', 'PRON')))\n",
      "(137, (('would', 'VERB'), ('would', 'VERB')))\n",
      "(138, (('like', 'ADP'), ('like', 'ADP')))\n",
      "(139, (('to', 'PRT'), ('to', 'PRT')))\n",
      "(140, (('see', 'VERB'), ('see', 'VERB')))\n",
      "(141, (('flights', 'NOUN'), ('flights', 'NOUN')))\n",
      "(142, (('from', 'ADP'), ('from', 'ADP')))\n",
      "(143, (('Denver', 'NOUN'), ('Denver', 'NOUN')))\n",
      "(144, (('to', 'PRT'), ('to', 'PRT')))\n",
      "(145, (('Philadelphia', 'NOUN'), ('Philadelphia', 'NOUN')))\n",
      "(146, (('.', '.'), ('.', '.')))\n",
      "(147, (('Show', 'NOUN'), ('Show', 'NOUN')))\n",
      "(148, (('me', 'PRON'), ('me', 'PRON')))\n",
      "(149, (('the', 'DET'), ('the', 'DET')))\n",
      "(150, (('price', 'NOUN'), ('price', 'NOUN')))\n",
      "(151, (('of', 'ADP'), ('of', 'ADP')))\n",
      "(152, (('the', 'DET'), ('the', 'DET')))\n",
      "(153, (('flights', 'NOUN'), ('flights', 'NOUN')))\n",
      "(154, (('leaving', 'VERB'), ('leaving', 'VERB')))\n",
      "(155, (('Atlanta', 'NOUN'), ('Atlanta', 'NOUN')))\n",
      "(156, (('at', 'ADP'), ('at', 'ADP')))\n",
      "(157, (('about', 'ADP'), ('about', 'ADP')))\n",
      "(158, (('3', 'NUM'), ('3', 'NUM')))\n",
      "(159, (('in', 'ADP'), ('in', 'ADP')))\n",
      "(160, (('the', 'DET'), ('the', 'DET')))\n",
      "(161, (('afternoon', 'NOUN'), ('afternoon', 'NOUN')))\n",
      "(162, (('and', 'CONJ'), ('and', 'CONJ')))\n",
      "(163, (('arriving', 'VERB'), ('arriving', 'DET')))\n",
      "(164, (('in', 'ADP'), ('in', 'ADP')))\n",
      "(165, (('San', 'NOUN'), ('San', 'NOUN')))\n",
      "(166, (('Francisco', 'NOUN'), ('Francisco', 'NOUN')))\n",
      "(167, (('.', '.'), ('.', '.')))\n",
      "(168, (('NASA', 'NOUN'), ('NASA', 'DET')))\n",
      "(169, (('invited', 'VERB'), ('invited', 'DET')))\n",
      "(170, (('social', 'ADJ'), ('social', 'ADJ')))\n",
      "(171, (('media', 'NOUN'), ('media', 'NOUN')))\n",
      "(172, (('users', 'NOUN'), ('users', 'NOUN')))\n",
      "(173, (('to', 'PRT'), ('to', 'PRT')))\n",
      "(174, (('experience', 'NOUN'), ('experience', 'NOUN')))\n",
      "(175, (('the', 'DET'), ('the', 'DET')))\n",
      "(176, (('launch', 'NOUN'), ('launch', 'NOUN')))\n",
      "(177, (('of', 'ADP'), ('of', 'ADP')))\n",
      "(178, (('ICESAT-2', 'NOUN'), ('ICESAT-2', 'DET')))\n",
      "(179, (('Satellite', 'NOUN'), ('Satellite', 'DET')))\n",
      "(180, (('.', '.'), ('.', '.')))\n"
     ]
    }
   ],
   "source": [
    "for item in enumerate(zip(test_output2,test_output)):\n",
    "    print(item)"
   ]
  },
  {
   "cell_type": "markdown",
   "metadata": {},
   "source": [
    " - 'Android is a mobile operating system developed by Google.\n",
    " - Here Android and Google are both tagged by 'X' in vanilla viterbi algorithm.\n",
    " - After modification both are tagged by NOUN now "
   ]
  },
  {
   "cell_type": "markdown",
   "metadata": {},
   "source": [
    "\n",
    "- \"Android has been the best-selling OS worldwide on smartphones since 2011 and on tablets since 2013.\"\n",
    "- Here 2011 and 2013 are tagged by 'X' in vanilla viterbi algorithm\n",
    "- After modification,both are tagged by 'NUM'\n"
   ]
  },
  {
   "cell_type": "markdown",
   "metadata": {},
   "source": [
    "- Similarly Twitter and Tweets are tagged by 'X' in vinalla viterbi\n",
    "- After modifications, Now these are tagged by NOUN."
   ]
  },
  {
   "cell_type": "markdown",
   "metadata": {},
   "source": [
    "- After modification of viterbi algorithm  __invited,arriving__ were tagged as __VERB__ ,Earlier these were tagged as 'X'\n"
   ]
  },
  {
   "cell_type": "code",
   "execution_count": null,
   "metadata": {},
   "outputs": [],
   "source": []
  }
 ],
 "metadata": {
  "kernelspec": {
   "display_name": "Python 3",
   "language": "python",
   "name": "python3"
  },
  "language_info": {
   "codemirror_mode": {
    "name": "ipython",
    "version": 3
   },
   "file_extension": ".py",
   "mimetype": "text/x-python",
   "name": "python",
   "nbconvert_exporter": "python",
   "pygments_lexer": "ipython3",
   "version": "3.7.6"
  }
 },
 "nbformat": 4,
 "nbformat_minor": 2
}
